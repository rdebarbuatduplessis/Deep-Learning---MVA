{
 "cells": [
  {
   "cell_type": "markdown",
   "metadata": {},
   "source": [
    "# Project: Image Classification and Regression \n",
    "## Rémi de Barbuat Duplessis"
   ]
  },
  {
   "cell_type": "markdown",
   "metadata": {},
   "source": [
    "### 1. Simple Classification"
   ]
  },
  {
   "cell_type": "code",
   "execution_count": 1,
   "metadata": {},
   "outputs": [
    {
     "name": "stderr",
     "output_type": "stream",
     "text": [
      "Using TensorFlow backend.\n"
     ]
    }
   ],
   "source": [
    "from utils import *\n",
    "from keras.models import Sequential \n",
    "from keras.layers import Dense, Activation, Dropout, Flatten, Conv2D, MaxPooling2D\n",
    "from keras.utils.np_utils import to_categorical"
   ]
  },
  {
   "cell_type": "code",
   "execution_count": 2,
   "metadata": {},
   "outputs": [
    {
     "name": "stdout",
     "output_type": "stream",
     "text": [
      "Creating data:\n",
      "0\n",
      "100\n",
      "200\n"
     ]
    }
   ],
   "source": [
    "[X_train, Y_train] = generate_dataset_classification(300, 20)\n",
    "Y_train = to_categorical(Y_train)"
   ]
  },
  {
   "cell_type": "markdown",
   "metadata": {},
   "source": [
    "#### a. First neural network"
   ]
  },
  {
   "cell_type": "code",
   "execution_count": 3,
   "metadata": {},
   "outputs": [],
   "source": [
    "model = Sequential()\n",
    "model.add(Dense(3, activation = 'softmax', input_dim = 5184))\n",
    "model.compile(optimizer = 'sgd', loss = 'categorical_crossentropy', metrics=['accuracy'])"
   ]
  },
  {
   "cell_type": "code",
   "execution_count": 4,
   "metadata": {},
   "outputs": [
    {
     "name": "stdout",
     "output_type": "stream",
     "text": [
      "Train on 200 samples, validate on 100 samples\n",
      "Epoch 1/10\n",
      "200/200 [==============================] - 0s 459us/step - loss: 8.6200 - acc: 0.3050 - val_loss: 11.4438 - val_acc: 0.2900\n",
      "Epoch 2/10\n",
      "200/200 [==============================] - 0s 62us/step - loss: 10.7185 - acc: 0.3350 - val_loss: 11.4438 - val_acc: 0.2900\n",
      "Epoch 3/10\n",
      "200/200 [==============================] - 0s 62us/step - loss: 10.7185 - acc: 0.3350 - val_loss: 11.4438 - val_acc: 0.2900\n",
      "Epoch 4/10\n",
      "200/200 [==============================] - 0s 65us/step - loss: 10.7185 - acc: 0.3350 - val_loss: 11.4438 - val_acc: 0.2900\n",
      "Epoch 5/10\n",
      "200/200 [==============================] - 0s 60us/step - loss: 10.7185 - acc: 0.3350 - val_loss: 11.4438 - val_acc: 0.2900\n",
      "Epoch 6/10\n",
      "200/200 [==============================] - 0s 60us/step - loss: 10.7185 - acc: 0.3350 - val_loss: 11.4438 - val_acc: 0.2900\n",
      "Epoch 7/10\n",
      "200/200 [==============================] - 0s 60us/step - loss: 10.7185 - acc: 0.3350 - val_loss: 11.4438 - val_acc: 0.2900\n",
      "Epoch 8/10\n",
      "200/200 [==============================] - 0s 62us/step - loss: 10.7185 - acc: 0.3350 - val_loss: 11.4438 - val_acc: 0.2900\n",
      "Epoch 9/10\n",
      "200/200 [==============================] - 0s 61us/step - loss: 10.7185 - acc: 0.3350 - val_loss: 11.4438 - val_acc: 0.2900\n",
      "Epoch 10/10\n",
      "200/200 [==============================] - 0s 60us/step - loss: 10.7185 - acc: 0.3350 - val_loss: 11.4438 - val_acc: 0.2900\n"
     ]
    },
    {
     "data": {
      "text/plain": [
       "<keras.callbacks.History at 0x7f4060a3a9b0>"
      ]
     },
     "execution_count": 4,
     "metadata": {},
     "output_type": "execute_result"
    }
   ],
   "source": [
    "model.fit(X_train[0:200], Y_train[0:200], validation_data=(X_train[200:300], Y_train[200:300]), epochs=10, batch_size=32)"
   ]
  },
  {
   "cell_type": "markdown",
   "metadata": {},
   "source": [
    "#### b. Second neural network"
   ]
  },
  {
   "cell_type": "code",
   "execution_count": 5,
   "metadata": {},
   "outputs": [],
   "source": [
    "model1 = Sequential()\n",
    "model1.add(Dense(3, activation = 'softmax', input_dim = 5184))\n",
    "model1.compile(optimizer = 'adam', loss = 'categorical_crossentropy', metrics=['accuracy'])"
   ]
  },
  {
   "cell_type": "code",
   "execution_count": 6,
   "metadata": {},
   "outputs": [
    {
     "name": "stdout",
     "output_type": "stream",
     "text": [
      "Train on 200 samples, validate on 100 samples\n",
      "Epoch 1/10\n",
      "200/200 [==============================] - 0s 550us/step - loss: 2.3661 - acc: 0.2950 - val_loss: 1.5329 - val_acc: 0.6700\n",
      "Epoch 2/10\n",
      "200/200 [==============================] - 0s 66us/step - loss: 1.2245 - acc: 0.4850 - val_loss: 0.6530 - val_acc: 0.7200\n",
      "Epoch 3/10\n",
      "200/200 [==============================] - 0s 65us/step - loss: 0.9433 - acc: 0.6350 - val_loss: 0.6949 - val_acc: 0.5700\n",
      "Epoch 4/10\n",
      "200/200 [==============================] - 0s 66us/step - loss: 0.6345 - acc: 0.7150 - val_loss: 0.5034 - val_acc: 0.7900\n",
      "Epoch 5/10\n",
      "200/200 [==============================] - 0s 62us/step - loss: 0.5441 - acc: 0.7100 - val_loss: 0.4227 - val_acc: 0.8500\n",
      "Epoch 6/10\n",
      "200/200 [==============================] - 0s 63us/step - loss: 0.4393 - acc: 0.8000 - val_loss: 0.4800 - val_acc: 0.7300\n",
      "Epoch 7/10\n",
      "200/200 [==============================] - 0s 63us/step - loss: 0.3944 - acc: 0.8150 - val_loss: 0.4544 - val_acc: 0.7400\n",
      "Epoch 8/10\n",
      "200/200 [==============================] - 0s 63us/step - loss: 0.3224 - acc: 0.8850 - val_loss: 0.3126 - val_acc: 0.8800\n",
      "Epoch 9/10\n",
      "200/200 [==============================] - 0s 61us/step - loss: 0.3107 - acc: 0.9100 - val_loss: 0.2653 - val_acc: 0.9300\n",
      "Epoch 10/10\n",
      "200/200 [==============================] - 0s 64us/step - loss: 0.2760 - acc: 0.9350 - val_loss: 0.2478 - val_acc: 0.9700\n"
     ]
    },
    {
     "data": {
      "text/plain": [
       "<keras.callbacks.History at 0x7f40607d73c8>"
      ]
     },
     "execution_count": 6,
     "metadata": {},
     "output_type": "execute_result"
    }
   ],
   "source": [
    "model1.fit(X_train[0:200], Y_train[0:200], validation_data=(X_train[200:300], Y_train[200:300]), epochs=10, batch_size=32)"
   ]
  },
  {
   "cell_type": "code",
   "execution_count": 7,
   "metadata": {},
   "outputs": [
    {
     "name": "stdout",
     "output_type": "stream",
     "text": [
      "[[1. 0. 0.]]\n",
      "[[0. 1. 0.]]\n",
      "[[0. 0. 1.]]\n"
     ]
    }
   ],
   "source": [
    "X_test_r = generate_a_rectangle()\n",
    "X_test_d = generate_a_disk()\n",
    "X_test_t = generate_a_triangle()[0]\n",
    "X_test_r = X_test_r.reshape(1, X_test_r.shape[0])\n",
    "X_test_d = X_test_d.reshape(1, X_test_d.shape[0])\n",
    "X_test_t = X_test_t.reshape(1, X_test_t.shape[0])\n",
    "print(model1.predict(X_test_r))\n",
    "print(model1.predict(X_test_d))\n",
    "print(model1.predict(X_test_t))"
   ]
  },
  {
   "cell_type": "code",
   "execution_count": 8,
   "metadata": {},
   "outputs": [
    {
     "data": {
      "image/png": "[encoded data removed]",
      "text/plain": [
       "<Figure size 432x288 with 3 Axes>"
      ]
     },
     "metadata": {
      "needs_background": "light"
     },
     "output_type": "display_data"
    }
   ],
   "source": [
    "import matplotlib.pyplot as plt\n",
    "\n",
    "weights = model1.get_weights()[0].reshape(72, 72, 3)\n",
    "\n",
    "plt.subplot(131)\n",
    "plt.imshow(weights[:,:,0], cmap='gray')\n",
    "plt.title('rectangle')\n",
    "\n",
    "plt.subplot(132)\n",
    "plt.imshow(weights[:,:,1], cmap='gray')\n",
    "plt.title('disk')\n",
    "\n",
    "plt.subplot(133)\n",
    "plt.imshow(weights[:,:,2], cmap='gray')\n",
    "plt.title('triangle')\n",
    "\n",
    "plt.show()"
   ]
  },
  {
   "cell_type": "markdown",
   "metadata": {},
   "source": [
    "### 2. A more difficult classification problem"
   ]
  },
  {
   "cell_type": "code",
   "execution_count": 9,
   "metadata": {},
   "outputs": [
    {
     "name": "stdout",
     "output_type": "stream",
     "text": [
      "Creating data:\n",
      "0\n",
      "100\n",
      "200\n",
      "300\n",
      "400\n",
      "500\n",
      "600\n",
      "700\n",
      "800\n",
      "900\n"
     ]
    }
   ],
   "source": [
    "[X_train1, Y_train1] = generate_dataset_classification(1000, 20, True)\n",
    "Y_train1 = to_categorical(Y_train1)\n",
    "X_train1 = X_train1.reshape(1000,72,72,1)"
   ]
  },
  {
   "cell_type": "code",
   "execution_count": 15,
   "metadata": {},
   "outputs": [
    {
     "name": "stdout",
     "output_type": "stream",
     "text": [
      "Creating data:\n",
      "0\n",
      "100\n",
      "200\n"
     ]
    }
   ],
   "source": [
    "[X_test1, Y_test1] = generate_test_set_classification()\n",
    "X_test1 = X_test1.reshape(300,72,72,1)"
   ]
  },
  {
   "cell_type": "code",
   "execution_count": 18,
   "metadata": {},
   "outputs": [
    {
     "data": {
      "text/plain": [
       "(300, 72, 72, 1)"
      ]
     },
     "execution_count": 18,
     "metadata": {},
     "output_type": "execute_result"
    }
   ],
   "source": [
    "X_test1.shape"
   ]
  },
  {
   "cell_type": "code",
   "execution_count": 16,
   "metadata": {},
   "outputs": [
    {
     "name": "stdout",
     "output_type": "stream",
     "text": [
      "Epoch 1/10\n",
      "1000/1000 [==============================] - 0s 44us/step - loss: 11.3794 - acc: 0.2940\n",
      "Epoch 2/10\n",
      "1000/1000 [==============================] - 0s 41us/step - loss: 11.3794 - acc: 0.2940\n",
      "Epoch 3/10\n",
      "1000/1000 [==============================] - 0s 41us/step - loss: 11.3794 - acc: 0.2940\n",
      "Epoch 4/10\n",
      "1000/1000 [==============================] - 0s 41us/step - loss: 11.3794 - acc: 0.2940\n",
      "Epoch 5/10\n",
      "1000/1000 [==============================] - 0s 42us/step - loss: 11.3794 - acc: 0.2940\n",
      "Epoch 6/10\n",
      "1000/1000 [==============================] - 0s 41us/step - loss: 11.3794 - acc: 0.2940\n",
      "Epoch 7/10\n",
      "1000/1000 [==============================] - 0s 41us/step - loss: 11.3794 - acc: 0.2940\n",
      "Epoch 8/10\n",
      "1000/1000 [==============================] - 0s 41us/step - loss: 11.3794 - acc: 0.2940\n",
      "Epoch 9/10\n",
      "1000/1000 [==============================] - 0s 41us/step - loss: 11.3794 - acc: 0.2940\n",
      "Epoch 10/10\n",
      "1000/1000 [==============================] - 0s 41us/step - loss: 11.3794 - acc: 0.2940\n"
     ]
    },
    {
     "data": {
      "text/plain": [
       "<keras.callbacks.History at 0x7f405d516908>"
      ]
     },
     "execution_count": 16,
     "metadata": {},
     "output_type": "execute_result"
    }
   ],
   "source": [
    "X_train_temp = X_train1.reshape(1000, 5184)\n",
    "model.fit(X_train_temp, Y_train1, epochs=10, batch_size=32)"
   ]
  },
  {
   "cell_type": "code",
   "execution_count": 19,
   "metadata": {},
   "outputs": [
    {
     "name": "stdout",
     "output_type": "stream",
     "text": [
      "300/300 [==============================] - 0s 28us/step\n"
     ]
    },
    {
     "data": {
      "text/plain": [
       "[10.637942924499512, 0.34000000009934106]"
      ]
     },
     "execution_count": 19,
     "metadata": {},
     "output_type": "execute_result"
    }
   ],
   "source": [
    "X_test_temp = X_test1.reshape(300, 5184)\n",
    "model.evaluate(X_test_temp, Y_test1)"
   ]
  },
  {
   "cell_type": "code",
   "execution_count": 20,
   "metadata": {},
   "outputs": [],
   "source": [
    "from keras.layers import Conv2D, MaxPooling2D, Flatten\n",
    "\n",
    "model2 = Sequential()\n",
    "model2.add(Conv2D(16, (5, 5), activation = 'relu', input_shape = (72, 72, 1)))\n",
    "model2.add(MaxPooling2D((2, 2)))\n",
    "model2.add(Flatten())\n",
    "model2.add(Dense(3, activation = 'softmax'))\n",
    "model2.compile(optimizer = 'adam', loss = 'categorical_crossentropy', metrics = ['accuracy'])"
   ]
  },
  {
   "cell_type": "code",
   "execution_count": 21,
   "metadata": {},
   "outputs": [
    {
     "name": "stdout",
     "output_type": "stream",
     "text": [
      "Epoch 1/10\n",
      "1000/1000 [==============================] - 2s 2ms/step - loss: 1.1443 - acc: 0.5220\n",
      "Epoch 2/10\n",
      "1000/1000 [==============================] - 2s 2ms/step - loss: 0.7553 - acc: 0.7110\n",
      "Epoch 3/10\n",
      "1000/1000 [==============================] - 2s 2ms/step - loss: 0.6488 - acc: 0.7530\n",
      "Epoch 4/10\n",
      "1000/1000 [==============================] - 2s 2ms/step - loss: 0.5857 - acc: 0.7710\n",
      "Epoch 5/10\n",
      "1000/1000 [==============================] - 2s 2ms/step - loss: 0.5319 - acc: 0.8000\n",
      "Epoch 6/10\n",
      "1000/1000 [==============================] - 2s 2ms/step - loss: 0.4893 - acc: 0.8170\n",
      "Epoch 7/10\n",
      "1000/1000 [==============================] - 2s 2ms/step - loss: 0.4525 - acc: 0.8450\n",
      "Epoch 8/10\n",
      "1000/1000 [==============================] - 2s 2ms/step - loss: 0.4125 - acc: 0.8660\n",
      "Epoch 9/10\n",
      "1000/1000 [==============================] - 2s 2ms/step - loss: 0.3895 - acc: 0.8680\n",
      "Epoch 10/10\n",
      "1000/1000 [==============================] - 2s 2ms/step - loss: 0.3844 - acc: 0.8710\n"
     ]
    },
    {
     "data": {
      "text/plain": [
       "<keras.callbacks.History at 0x7f405d203cf8>"
      ]
     },
     "execution_count": 21,
     "metadata": {},
     "output_type": "execute_result"
    }
   ],
   "source": [
    "model2.fit(X_train1, Y_train1, epochs=10, batch_size=32)"
   ]
  },
  {
   "cell_type": "code",
   "execution_count": 23,
   "metadata": {},
   "outputs": [
    {
     "name": "stdout",
     "output_type": "stream",
     "text": [
      "300/300 [==============================] - 0s 989us/step\n"
     ]
    },
    {
     "data": {
      "text/plain": [
       "[0.653489863872528, 0.71]"
      ]
     },
     "execution_count": 23,
     "metadata": {},
     "output_type": "execute_result"
    }
   ],
   "source": [
    "model2.evaluate(X_test1, Y_test1)"
   ]
  },
  {
   "cell_type": "markdown",
   "metadata": {},
   "source": [
    "### 3. A Regression Problem"
   ]
  },
  {
   "cell_type": "code",
   "execution_count": 24,
   "metadata": {},
   "outputs": [
    {
     "name": "stdout",
     "output_type": "stream",
     "text": [
      "Creating data:\n",
      "0\n",
      "100\n",
      "200\n",
      "Creating data:\n",
      "0\n",
      "100\n",
      "200\n"
     ]
    }
   ],
   "source": [
    "[X_train2, Y_train2] = generate_dataset_regression(300, 20)\n",
    "[X_test2, Y_test2] = generate_test_set_regression()\n",
    "X_train2 = X_train2.reshape(300,72,72,1)\n",
    "X_test2 = X_test2.reshape(300,72,72,1)"
   ]
  },
  {
   "cell_type": "code",
   "execution_count": 25,
   "metadata": {},
   "outputs": [
    {
     "data": {
      "image/png": "[encoded data removed]",
      "text/plain": [
       "<Figure size 360x360 with 1 Axes>"
      ]
     },
     "metadata": {
      "needs_background": "light"
     },
     "output_type": "display_data"
    }
   ],
   "source": [
    "visualize_prediction(X_train2[0], Y_train2[0])"
   ]
  },
  {
   "cell_type": "code",
   "execution_count": 26,
   "metadata": {},
   "outputs": [
    {
     "name": "stdout",
     "output_type": "stream",
     "text": [
      "(None, 6)\n"
     ]
    }
   ],
   "source": [
    "model3 = Sequential()\n",
    "model3.add(Conv2D(64, (5,5), input_shape = (72,72,1), activation='relu'))\n",
    "model3.add(MaxPooling2D(pool_size = (4,4)))\n",
    "model3.add(Dropout(0.5))\n",
    "model3.add(Conv2D(128, (5, 5), activation='relu'))\n",
    "model3.add(Dropout(0.5))\n",
    "model3.add(Conv2D(128, (5, 5), activation='relu'))\n",
    "model3.add(Flatten())\n",
    "model3.add(Dense(64, activation='relu'))\n",
    "model3.add(Dropout(0.1))\n",
    "model3.add(Dense(6))\n",
    "print(model3.output_shape)\n",
    "model3.compile(loss='mean_absolute_error', optimizer='adam')"
   ]
  },
  {
   "cell_type": "markdown",
   "metadata": {},
   "source": [
    "We normalize the vertices"
   ]
  },
  {
   "cell_type": "code",
   "execution_count": 27,
   "metadata": {},
   "outputs": [],
   "source": [
    "def sort_vertices(dataset):\n",
    "    res = np.zeros((300, 6))\n",
    "    for i in range(0, 300):\n",
    "        temp1 = [dataset[i,2*m] for m in range(0, 3)]\n",
    "        j = np.argmax(temp1)\n",
    "        k = np.argmin(temp1)\n",
    "        l = 3 - j - k\n",
    "        temp2 = [dataset[i,2*j], dataset[i,2*j+1], \n",
    "                dataset[i,2*k], dataset[i,2*k+1], \n",
    "                dataset[i,2*l], dataset[i,2*l+1]]\n",
    "        if (dataset[i,2*j] == dataset[i,2*k] and dataset[i,2*j+1]<dataset[i,2*k+1]):\n",
    "            temp2 = [dataset[i,2*k], dataset[i,2*k+1],\n",
    "                     dataset[i,2*j], dataset[i,2*j+1],  \n",
    "                    dataset[i,2*l], dataset[i,2*l+1]]\n",
    "        elif (dataset[i,2*l] == dataset[i,2*k] and dataset[i,2*k+1]<dataset[i,2*l+1]):\n",
    "            temp2 = [dataset[i,2*j], dataset[i,2*j+1],\n",
    "                dataset[i,2*l], dataset[i,2*l+1],\n",
    "                dataset[i,2*k], dataset[i,2*k+1]]\n",
    "        res[i,:] = temp2\n",
    "    return res"
   ]
  },
  {
   "cell_type": "code",
   "execution_count": 28,
   "metadata": {},
   "outputs": [],
   "source": [
    "Y_train3 = sort_vertices(Y_train2)\n",
    "Y_test3 = sort_vertices(Y_test2)"
   ]
  },
  {
   "cell_type": "code",
   "execution_count": 29,
   "metadata": {},
   "outputs": [],
   "source": [
    "X_train2 = X_train2.reshape(300,72,72,1)"
   ]
  },
  {
   "cell_type": "code",
   "execution_count": 30,
   "metadata": {},
   "outputs": [
    {
     "name": "stdout",
     "output_type": "stream",
     "text": [
      "Epoch 1/10\n",
      "300/300 [==============================] - 3s 11ms/step - loss: 0.5315\n",
      "Epoch 2/10\n",
      "300/300 [==============================] - 3s 10ms/step - loss: 0.2568\n",
      "Epoch 3/10\n",
      "300/300 [==============================] - 3s 10ms/step - loss: 0.2312\n",
      "Epoch 4/10\n",
      "300/300 [==============================] - 3s 10ms/step - loss: 0.2201\n",
      "Epoch 5/10\n",
      "300/300 [==============================] - 3s 10ms/step - loss: 0.2033\n",
      "Epoch 6/10\n",
      "300/300 [==============================] - 3s 10ms/step - loss: 0.1939\n",
      "Epoch 7/10\n",
      "300/300 [==============================] - 3s 10ms/step - loss: 0.1946\n",
      "Epoch 8/10\n",
      "300/300 [==============================] - 3s 10ms/step - loss: 0.1847\n",
      "Epoch 9/10\n",
      "300/300 [==============================] - 3s 10ms/step - loss: 0.1819\n",
      "Epoch 10/10\n",
      "300/300 [==============================] - 3s 10ms/step - loss: 0.1774\n"
     ]
    },
    {
     "data": {
      "text/plain": [
       "<keras.callbacks.History at 0x7f405d532eb8>"
      ]
     },
     "execution_count": 30,
     "metadata": {},
     "output_type": "execute_result"
    }
   ],
   "source": [
    "model3.fit(X_train2, Y_train3, epochs=10, batch_size=32)"
   ]
  },
  {
   "cell_type": "code",
   "execution_count": 31,
   "metadata": {},
   "outputs": [
    {
     "name": "stdout",
     "output_type": "stream",
     "text": [
      "300/300 [==============================] - 1s 3ms/step\n"
     ]
    },
    {
     "data": {
      "text/plain": [
       "0.16441553930441538"
      ]
     },
     "execution_count": 31,
     "metadata": {},
     "output_type": "execute_result"
    }
   ],
   "source": [
    "model3.evaluate(X_test2, Y_test3)"
   ]
  },
  {
   "cell_type": "markdown",
   "metadata": {},
   "source": [
    "### 4. Image denoising"
   ]
  }
 ],
 "metadata": {
  "kernelspec": {
   "display_name": "Python 3",
   "language": "python",
   "name": "python3"
  },
  "language_info": {
   "codemirror_mode": {
    "name": "ipython",
    "version": 3
   },
   "file_extension": ".py",
   "mimetype": "text/x-python",
   "name": "python",
   "nbconvert_exporter": "python",
   "pygments_lexer": "ipython3",
   "version": "3.6.6"
  }
 },
 "nbformat": 4,
 "nbformat_minor": 2
}
